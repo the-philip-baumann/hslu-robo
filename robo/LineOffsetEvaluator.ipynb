{
 "cells": [
  {
   "cell_type": "code",
   "id": "initial_id",
   "metadata": {
    "collapsed": true,
    "ExecuteTime": {
     "end_time": "2025-04-06T19:43:48.491185Z",
     "start_time": "2025-04-06T19:43:47.655971Z"
    }
   },
   "source": "%pip install opencv-python matplotlib numpy",
   "outputs": [
    {
     "name": "stdout",
     "output_type": "stream",
     "text": [
      "Requirement already satisfied: opencv-python in /Users/philipbaumann/VsProjects/duckie-lab/.venv/lib/python3.9/site-packages (4.11.0.86)\r\n",
      "Requirement already satisfied: matplotlib in /Users/philipbaumann/VsProjects/duckie-lab/.venv/lib/python3.9/site-packages (3.9.4)\r\n",
      "Requirement already satisfied: numpy in /Users/philipbaumann/VsProjects/duckie-lab/.venv/lib/python3.9/site-packages (2.0.2)\r\n",
      "Requirement already satisfied: contourpy>=1.0.1 in /Users/philipbaumann/VsProjects/duckie-lab/.venv/lib/python3.9/site-packages (from matplotlib) (1.3.0)\r\n",
      "Requirement already satisfied: cycler>=0.10 in /Users/philipbaumann/VsProjects/duckie-lab/.venv/lib/python3.9/site-packages (from matplotlib) (0.12.1)\r\n",
      "Requirement already satisfied: fonttools>=4.22.0 in /Users/philipbaumann/VsProjects/duckie-lab/.venv/lib/python3.9/site-packages (from matplotlib) (4.56.0)\r\n",
      "Requirement already satisfied: kiwisolver>=1.3.1 in /Users/philipbaumann/VsProjects/duckie-lab/.venv/lib/python3.9/site-packages (from matplotlib) (1.4.7)\r\n",
      "Requirement already satisfied: packaging>=20.0 in /Users/philipbaumann/VsProjects/duckie-lab/.venv/lib/python3.9/site-packages (from matplotlib) (24.2)\r\n",
      "Requirement already satisfied: pillow>=8 in /Users/philipbaumann/VsProjects/duckie-lab/.venv/lib/python3.9/site-packages (from matplotlib) (11.1.0)\r\n",
      "Requirement already satisfied: pyparsing>=2.3.1 in /Users/philipbaumann/VsProjects/duckie-lab/.venv/lib/python3.9/site-packages (from matplotlib) (3.2.3)\r\n",
      "Requirement already satisfied: python-dateutil>=2.7 in /Users/philipbaumann/VsProjects/duckie-lab/.venv/lib/python3.9/site-packages (from matplotlib) (2.9.0.post0)\r\n",
      "Requirement already satisfied: importlib-resources>=3.2.0 in /Users/philipbaumann/VsProjects/duckie-lab/.venv/lib/python3.9/site-packages (from matplotlib) (6.5.2)\r\n",
      "Requirement already satisfied: zipp>=3.1.0 in /Users/philipbaumann/VsProjects/duckie-lab/.venv/lib/python3.9/site-packages (from importlib-resources>=3.2.0->matplotlib) (3.21.0)\r\n",
      "Requirement already satisfied: six>=1.5 in /Users/philipbaumann/VsProjects/duckie-lab/.venv/lib/python3.9/site-packages (from python-dateutil>=2.7->matplotlib) (1.17.0)\r\n",
      "\r\n",
      "\u001B[1m[\u001B[0m\u001B[34;49mnotice\u001B[0m\u001B[1;39;49m]\u001B[0m\u001B[39;49m A new release of pip is available: \u001B[0m\u001B[31;49m23.2.1\u001B[0m\u001B[39;49m -> \u001B[0m\u001B[32;49m25.0.1\u001B[0m\r\n",
      "\u001B[1m[\u001B[0m\u001B[34;49mnotice\u001B[0m\u001B[1;39;49m]\u001B[0m\u001B[39;49m To update, run: \u001B[0m\u001B[32;49mpip install --upgrade pip\u001B[0m\r\n",
      "Note: you may need to restart the kernel to use updated packages.\n"
     ]
    }
   ],
   "execution_count": 303
  },
  {
   "metadata": {
    "ExecuteTime": {
     "end_time": "2025-04-06T19:43:48.498753Z",
     "start_time": "2025-04-06T19:43:48.495362Z"
    }
   },
   "cell_type": "code",
   "source": [
    "from enum import Enum\n",
    "\n",
    "class AktuelleAusrichtung(Enum):\n",
    "    FAEHRT_NACH_LINKS = 0\n",
    "    FAEHRT_NACH_RECHTS = 1\n",
    "    GERADE_AUS = 2\n"
   ],
   "id": "7cf87677946fd1db",
   "outputs": [],
   "execution_count": 304
  },
  {
   "metadata": {
    "ExecuteTime": {
     "end_time": "2025-04-06T19:43:48.510608Z",
     "start_time": "2025-04-06T19:43:48.508582Z"
    }
   },
   "cell_type": "code",
   "source": [
    "import cv2\n",
    "import numpy as np\n",
    "from matplotlib import pyplot as plt"
   ],
   "id": "b412b2ac6311f182",
   "outputs": [],
   "execution_count": 305
  },
  {
   "metadata": {
    "ExecuteTime": {
     "end_time": "2025-04-06T19:43:48.520533Z",
     "start_time": "2025-04-06T19:43:48.518557Z"
    }
   },
   "cell_type": "code",
   "source": "SIGNIFIKANZ_FAKTOR = 1.2",
   "id": "c973923d7b17ae74",
   "outputs": [],
   "execution_count": 306
  },
  {
   "metadata": {
    "ExecuteTime": {
     "end_time": "2025-04-06T19:43:48.538475Z",
     "start_time": "2025-04-06T19:43:48.534604Z"
    }
   },
   "cell_type": "code",
   "source": [
    "image = cv2.imread('./camera/image-1f804f53-9375-479d-933b-28abb5d4e545.jpg',  cv2.IMREAD_COLOR)\n",
    "image_hsv = cv2.cvtColor(image, cv2.COLOR_BGR2HSV)\n"
   ],
   "id": "7c29945db038c583",
   "outputs": [],
   "execution_count": 307
  },
  {
   "metadata": {
    "ExecuteTime": {
     "end_time": "2025-04-06T19:43:48.543470Z",
     "start_time": "2025-04-06T19:43:48.541680Z"
    }
   },
   "cell_type": "code",
   "source": [
    "yellow_lower_hsv = np.array([20, 100, 100])\n",
    "yellow_upper_hsv = np.array([30, 255, 255])"
   ],
   "id": "c238621432b9bd4",
   "outputs": [],
   "execution_count": 308
  },
  {
   "metadata": {
    "ExecuteTime": {
     "end_time": "2025-04-06T19:43:48.552675Z",
     "start_time": "2025-04-06T19:43:48.550476Z"
    }
   },
   "cell_type": "code",
   "source": [
    "height, width, channels = image_hsv.shape\n",
    "half = width // 2\n",
    "left_half = width // 2 - width // 3\n",
    "right_half = width // 2 + width // 3\n",
    "bottom_20_percent = height // 5 * 4"
   ],
   "id": "ed489816992f96dc",
   "outputs": [],
   "execution_count": 309
  },
  {
   "metadata": {
    "ExecuteTime": {
     "end_time": "2025-04-06T19:43:48.561960Z",
     "start_time": "2025-04-06T19:43:48.560139Z"
    }
   },
   "cell_type": "code",
   "source": [
    "right = image_hsv[bottom_20_percent:, half:right_half]\n",
    "left = image_hsv[bottom_20_percent:, left_half:half]"
   ],
   "id": "5aa1485ee78dbcf8",
   "outputs": [],
   "execution_count": 310
  },
  {
   "metadata": {
    "ExecuteTime": {
     "end_time": "2025-04-06T19:43:48.571951Z",
     "start_time": "2025-04-06T19:43:48.569023Z"
    }
   },
   "cell_type": "code",
   "source": [
    "mask_right = cv2.inRange(right, yellow_lower_hsv, yellow_upper_hsv)\n",
    "yellow_pixel_right = cv2.countNonZero(mask_right)\n",
    "yellow_pixel_right"
   ],
   "id": "8d79c319ad807d92",
   "outputs": [
    {
     "data": {
      "text/plain": [
       "0"
      ]
     },
     "execution_count": 311,
     "metadata": {},
     "output_type": "execute_result"
    }
   ],
   "execution_count": 311
  },
  {
   "metadata": {
    "ExecuteTime": {
     "end_time": "2025-04-06T19:43:48.584711Z",
     "start_time": "2025-04-06T19:43:48.582143Z"
    }
   },
   "cell_type": "code",
   "source": [
    "mask_left = cv2.inRange(left, yellow_lower_hsv, yellow_upper_hsv)\n",
    "yellow_pixel_left = cv2.countNonZero(mask_left)\n",
    "yellow_pixel_left"
   ],
   "id": "b475b20f91f71a04",
   "outputs": [
    {
     "data": {
      "text/plain": [
       "6841"
      ]
     },
     "execution_count": 312,
     "metadata": {},
     "output_type": "execute_result"
    }
   ],
   "execution_count": 312
  },
  {
   "metadata": {
    "ExecuteTime": {
     "end_time": "2025-04-06T19:43:48.598079Z",
     "start_time": "2025-04-06T19:43:48.595178Z"
    }
   },
   "cell_type": "code",
   "source": [
    "def get_aktuelle_ausrichtung():\n",
    "    if yellow_pixel_right * SIGNIFIKANZ_FAKTOR:\n",
    "        return AktuelleAusrichtung.FAEHRT_NACH_LINKS\n",
    "    if yellow_pixel_left * SIGNIFIKANZ_FAKTOR:\n",
    "        return AktuelleAusrichtung.FAEHRT_NACH_RECHTS\n",
    "    return AktuelleAusrichtung.GERADE_AUS\n",
    "\n",
    "get_aktuelle_ausrichtung()\n"
   ],
   "id": "ffcd4076dd4adf3c",
   "outputs": [
    {
     "data": {
      "text/plain": [
       "<AktuelleAusrichtung.FAEHRT_NACH_RECHTS: 1>"
      ]
     },
     "execution_count": 313,
     "metadata": {},
     "output_type": "execute_result"
    }
   ],
   "execution_count": 313
  }
 ],
 "metadata": {
  "kernelspec": {
   "display_name": "Python 3",
   "language": "python",
   "name": "python3"
  },
  "language_info": {
   "codemirror_mode": {
    "name": "ipython",
    "version": 2
   },
   "file_extension": ".py",
   "mimetype": "text/x-python",
   "name": "python",
   "nbconvert_exporter": "python",
   "pygments_lexer": "ipython2",
   "version": "2.7.6"
  }
 },
 "nbformat": 4,
 "nbformat_minor": 5
}
